{
 "cells": [
  {
   "cell_type": "code",
   "execution_count": 57,
   "metadata": {},
   "outputs": [],
   "source": [
    "# Import relevant packages\n",
    "import pandas as pd\n",
    "import seaborn as sns \n",
    "import matplotlib.pyplot as plt\n",
    "from sklearn import tree\n",
    "from IPython.display import Image\n",
    "import numpy as np\n",
    "from sklearn.metrics import accuracy_score\n",
    "from sklearn.metrics import precision_score\n",
    "from sklearn.metrics import recall_score\n",
    "from sklearn.metrics import confusion_matrix\n",
    "import os\n",
    "from sklearn.model_selection import train_test_split\n",
    "from sklearn.metrics import classification_report\n",
    "from sklearn.ensemble import ExtraTreesClassifier\n",
    "from sklearn.feature_selection import SelectFromModel\n",
    "from sklearn.pipeline import Pipeline"
   ]
  },
  {
   "cell_type": "markdown",
   "metadata": {},
   "source": [
    "Some brief cleaning is necessary for the remote lookup table to remove redundant observations from the subsequent analyses."
   ]
  },
  {
   "cell_type": "code",
   "execution_count": 75,
   "metadata": {},
   "outputs": [],
   "source": [
    "fares = pd.read_csv('../../data/01-modified-data/MTA-Fare-Card-Cleaned-Gathered.csv')\n",
    "lookup = pd.read_csv('../../data/00-raw-data/Remote-Station-Lookup.csv')\n",
    "lookup = lookup.rename(columns={'remote':'remote_station_id'})\n",
    "\n",
    "# Drop booth column (not used in further analyses)\n",
    "lookup = lookup.drop(columns=['booth'])\n",
    "# Drop duplicates and NA values\n",
    "lookup = lookup.drop_duplicates(subset=['remote_station_id'])\n",
    "lookup.dropna(inplace=True)\n",
    "df = fares.merge(lookup,on='remote_station_id')"
   ]
  },
  {
   "cell_type": "code",
   "execution_count": 77,
   "metadata": {},
   "outputs": [
    {
     "data": {
      "text/plain": [
       "R001    2310\n",
       "R165    2310\n",
       "R167    2310\n",
       "R168    2310\n",
       "R169    2310\n",
       "        ... \n",
       "R401    1924\n",
       "R413    1891\n",
       "R094    1869\n",
       "R305    1396\n",
       "R454     231\n",
       "Name: remote_station_id, Length: 455, dtype: int64"
      ]
     },
     "execution_count": 77,
     "metadata": {},
     "output_type": "execute_result"
    }
   ],
   "source": [
    "df['remote_station_id'].value_counts()"
   ]
  },
  {
   "cell_type": "code",
   "execution_count": 61,
   "metadata": {},
   "outputs": [
    {
     "name": "stdout",
     "output_type": "stream",
     "text": [
      "<class 'pandas.core.frame.DataFrame'> (1493, 6)\n",
      "<class 'pandas.core.frame.DataFrame'> (374, 6)\n",
      "<class 'pandas.core.series.Series'> (1493,)\n",
      "<class 'pandas.core.series.Series'> (374,)\n"
     ]
    }
   ],
   "source": [
    "X = df[[]]\n",
    "Y = df[]\n",
    "\n",
    "x_train,x_test,y_train,y_test = train_test_split(X,Y,test_size = 0.2)\n",
    "print(type(x_train),x_train.shape)\n",
    "print(type(x_test),x_test.shape)\n",
    "print(type(y_train),y_train.shape)\n",
    "print(type(y_test),y_test.shape)"
   ]
  },
  {
   "cell_type": "code",
   "execution_count": 62,
   "metadata": {},
   "outputs": [],
   "source": [
    "model = tree.DecisionTreeClassifier()\n",
    "model.fit(x_train,y_train)\n",
    "\n",
    "# Save predictions for later plot use\n",
    "yp_train = model.predict(x_train)\n",
    "yp_test = model.predict(x_test)"
   ]
  },
  {
   "cell_type": "code",
   "execution_count": 67,
   "metadata": {},
   "outputs": [
    {
     "data": {
      "text/plain": [
       "array([0.23530522, 0.07389819, 0.1191728 , 0.23838348, 0.13277509,\n",
       "       0.20046522])"
      ]
     },
     "execution_count": 67,
     "metadata": {},
     "output_type": "execute_result"
    }
   ],
   "source": [
    "labels = list(df['route1'].unique())"
   ]
  },
  {
   "cell_type": "code",
   "execution_count": 66,
   "metadata": {},
   "outputs": [
    {
     "name": "stdout",
     "output_type": "stream",
     "text": [
      "CLASSIFICATION REPORT FOR TRAINING SET\n",
      "              precision    recall  f1-score   support\n",
      "\n",
      "           A       0.32      0.50      0.39       117\n",
      "           F       0.60      0.17      0.27       104\n",
      "           E       0.00      0.00      0.00        27\n",
      "           H       0.00      0.00      0.00        43\n",
      "           6       0.83      0.83      0.83         6\n",
      "           J       0.23      0.36      0.28        87\n",
      "           7       1.00      0.06      0.12        65\n",
      "           5       0.21      0.78      0.33       220\n",
      "           2       0.38      0.14      0.21       141\n",
      "           M       1.00      0.13      0.23        38\n",
      "           4       0.00      0.00      0.00        42\n",
      "           D       0.36      0.13      0.20        60\n",
      "           3       0.24      0.29      0.26       146\n",
      "           B       0.00      0.00      0.00         6\n",
      "           1       0.67      0.10      0.17        41\n",
      "           L       0.58      0.73      0.65        15\n",
      "           N       0.00      0.00      0.00         9\n",
      "           C       1.00      0.08      0.15        75\n",
      "           G       0.45      0.08      0.14        61\n",
      "          FS       1.00      0.07      0.13        43\n",
      "           Q       1.00      0.07      0.13        87\n",
      "          GS       0.00      0.00      0.00         5\n",
      "           R       1.00      0.04      0.07        55\n",
      "\n",
      "    accuracy                           0.27      1493\n",
      "   macro avg       0.47      0.20      0.20      1493\n",
      "weighted avg       0.47      0.27      0.22      1493\n",
      "\n"
     ]
    },
    {
     "name": "stderr",
     "output_type": "stream",
     "text": [
      "c:\\Users\\alexp\\anaconda3\\envs\\ANLY501\\lib\\site-packages\\sklearn\\metrics\\_classification.py:1334: UndefinedMetricWarning: Precision and F-score are ill-defined and being set to 0.0 in labels with no predicted samples. Use `zero_division` parameter to control this behavior.\n",
      "  _warn_prf(average, modifier, msg_start, len(result))\n",
      "c:\\Users\\alexp\\anaconda3\\envs\\ANLY501\\lib\\site-packages\\sklearn\\metrics\\_classification.py:1334: UndefinedMetricWarning: Precision and F-score are ill-defined and being set to 0.0 in labels with no predicted samples. Use `zero_division` parameter to control this behavior.\n",
      "  _warn_prf(average, modifier, msg_start, len(result))\n",
      "c:\\Users\\alexp\\anaconda3\\envs\\ANLY501\\lib\\site-packages\\sklearn\\metrics\\_classification.py:1334: UndefinedMetricWarning: Precision and F-score are ill-defined and being set to 0.0 in labels with no predicted samples. Use `zero_division` parameter to control this behavior.\n",
      "  _warn_prf(average, modifier, msg_start, len(result))\n"
     ]
    }
   ],
   "source": [
    "print(\"CLASSIFICATION REPORT FOR TRAINING SET\")\n",
    "print(classification_report(y_train,yp_train,target_names=labels))"
   ]
  },
  {
   "cell_type": "code",
   "execution_count": 65,
   "metadata": {},
   "outputs": [
    {
     "name": "stdout",
     "output_type": "stream",
     "text": [
      "CLASSIFICATION REPORT FOR TEST SET\n",
      "              precision    recall  f1-score   support\n",
      "\n",
      "           A       0.18      0.21      0.19        29\n",
      "           F       0.60      0.18      0.27        34\n",
      "           E       0.00      0.00      0.00         5\n",
      "           H       0.00      0.00      0.00        18\n",
      "           6       0.33      1.00      0.50         1\n",
      "           J       0.17      0.23      0.20        26\n",
      "           7       0.00      0.00      0.00         5\n",
      "           5       0.18      0.77      0.29        53\n",
      "           2       0.38      0.06      0.10        52\n",
      "           M       0.00      0.00      0.00         9\n",
      "           4       0.00      0.00      0.00        10\n",
      "           D       0.00      0.00      0.00        15\n",
      "           3       0.20      0.26      0.23        31\n",
      "           B       0.00      0.00      0.00         1\n",
      "           1       0.00      0.00      0.00         9\n",
      "           L       0.00      0.00      0.00         1\n",
      "           N       0.00      0.00      0.00         3\n",
      "           C       0.00      0.00      0.00        18\n",
      "           G       0.00      0.00      0.00        13\n",
      "          FS       1.00      0.20      0.33        10\n",
      "           Q       1.00      0.07      0.13        14\n",
      "          GS       0.00      0.00      0.00         1\n",
      "           R       0.00      0.00      0.00        16\n",
      "\n",
      "    accuracy                           0.20       374\n",
      "   macro avg       0.18      0.13      0.10       374\n",
      "weighted avg       0.24      0.20      0.14       374\n",
      "\n"
     ]
    },
    {
     "name": "stderr",
     "output_type": "stream",
     "text": [
      "c:\\Users\\alexp\\anaconda3\\envs\\ANLY501\\lib\\site-packages\\sklearn\\metrics\\_classification.py:1334: UndefinedMetricWarning: Precision and F-score are ill-defined and being set to 0.0 in labels with no predicted samples. Use `zero_division` parameter to control this behavior.\n",
      "  _warn_prf(average, modifier, msg_start, len(result))\n",
      "c:\\Users\\alexp\\anaconda3\\envs\\ANLY501\\lib\\site-packages\\sklearn\\metrics\\_classification.py:1334: UndefinedMetricWarning: Precision and F-score are ill-defined and being set to 0.0 in labels with no predicted samples. Use `zero_division` parameter to control this behavior.\n",
      "  _warn_prf(average, modifier, msg_start, len(result))\n",
      "c:\\Users\\alexp\\anaconda3\\envs\\ANLY501\\lib\\site-packages\\sklearn\\metrics\\_classification.py:1334: UndefinedMetricWarning: Precision and F-score are ill-defined and being set to 0.0 in labels with no predicted samples. Use `zero_division` parameter to control this behavior.\n",
      "  _warn_prf(average, modifier, msg_start, len(result))\n"
     ]
    }
   ],
   "source": [
    "print(\"CLASSIFICATION REPORT FOR TEST SET\")\n",
    "print(classification_report(y_test,yp_test,target_names=labels))"
   ]
  }
 ],
 "metadata": {
  "kernelspec": {
   "display_name": "Python 3.10.4 ('ANLY501')",
   "language": "python",
   "name": "python3"
  },
  "language_info": {
   "codemirror_mode": {
    "name": "ipython",
    "version": 3
   },
   "file_extension": ".py",
   "mimetype": "text/x-python",
   "name": "python",
   "nbconvert_exporter": "python",
   "pygments_lexer": "ipython3",
   "version": "3.10.4"
  },
  "orig_nbformat": 4,
  "vscode": {
   "interpreter": {
    "hash": "45400336930f63a3dad52b4eda0d8feb5d28fea33ac62eb90fb48ebf47238ba1"
   }
  }
 },
 "nbformat": 4,
 "nbformat_minor": 2
}
