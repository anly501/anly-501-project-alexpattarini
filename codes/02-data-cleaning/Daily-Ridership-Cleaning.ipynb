{
 "cells": [
  {
   "cell_type": "markdown",
   "metadata": {},
   "source": [
    "# Cleaning Daily Ridership Data\n",
    "\n",
    "This script cleans a csv of MTA daily ridership figures into a labelled tall format"
   ]
  },
  {
   "cell_type": "code",
   "execution_count": 95,
   "metadata": {},
   "outputs": [],
   "source": [
    "import pandas as pd\n",
    "import numpy as np\n",
    "import os"
   ]
  },
  {
   "cell_type": "markdown",
   "metadata": {},
   "source": [
    "Rows with empty values are dropped and irrelevant columns are dropped from the data set (e.g., bus, bridge, and Access-A-Ride columns)"
   ]
  },
  {
   "cell_type": "code",
   "execution_count": 96,
   "metadata": {},
   "outputs": [
    {
     "name": "stdout",
     "output_type": "stream",
     "text": [
      "Index(['Date', 'Subways: Total Estimated Ridership',\n",
      "       'LIRR: Total Estimated Ridership',\n",
      "       'Metro-North: Total Estimated Ridership'],\n",
      "      dtype='object')\n"
     ]
    },
    {
     "data": {
      "text/html": [
       "<div>\n",
       "<style scoped>\n",
       "    .dataframe tbody tr th:only-of-type {\n",
       "        vertical-align: middle;\n",
       "    }\n",
       "\n",
       "    .dataframe tbody tr th {\n",
       "        vertical-align: top;\n",
       "    }\n",
       "\n",
       "    .dataframe thead th {\n",
       "        text-align: right;\n",
       "    }\n",
       "</style>\n",
       "<table border=\"1\" class=\"dataframe\">\n",
       "  <thead>\n",
       "    <tr style=\"text-align: right;\">\n",
       "      <th></th>\n",
       "      <th>Date</th>\n",
       "      <th>Subways: Total Estimated Ridership</th>\n",
       "      <th>LIRR: Total Estimated Ridership</th>\n",
       "      <th>Metro-North: Total Estimated Ridership</th>\n",
       "    </tr>\n",
       "  </thead>\n",
       "  <tbody>\n",
       "    <tr>\n",
       "      <th>17</th>\n",
       "      <td>2/28/2022</td>\n",
       "      <td>2921956</td>\n",
       "      <td>158200.0</td>\n",
       "      <td>148200.0</td>\n",
       "    </tr>\n",
       "    <tr>\n",
       "      <th>18</th>\n",
       "      <td>2/27/2022</td>\n",
       "      <td>1404750</td>\n",
       "      <td>66200.0</td>\n",
       "      <td>56000.0</td>\n",
       "    </tr>\n",
       "    <tr>\n",
       "      <th>19</th>\n",
       "      <td>2/26/2022</td>\n",
       "      <td>1826845</td>\n",
       "      <td>72700.0</td>\n",
       "      <td>62900.0</td>\n",
       "    </tr>\n",
       "    <tr>\n",
       "      <th>20</th>\n",
       "      <td>2/25/2022</td>\n",
       "      <td>2580174</td>\n",
       "      <td>116800.0</td>\n",
       "      <td>93200.0</td>\n",
       "    </tr>\n",
       "    <tr>\n",
       "      <th>21</th>\n",
       "      <td>2/24/2022</td>\n",
       "      <td>2864025</td>\n",
       "      <td>132500.0</td>\n",
       "      <td>110400.0</td>\n",
       "    </tr>\n",
       "  </tbody>\n",
       "</table>\n",
       "</div>"
      ],
      "text/plain": [
       "         Date  Subways: Total Estimated Ridership  \\\n",
       "17  2/28/2022                             2921956   \n",
       "18  2/27/2022                             1404750   \n",
       "19  2/26/2022                             1826845   \n",
       "20  2/25/2022                             2580174   \n",
       "21  2/24/2022                             2864025   \n",
       "\n",
       "    LIRR: Total Estimated Ridership  Metro-North: Total Estimated Ridership  \n",
       "17                         158200.0                                148200.0  \n",
       "18                          66200.0                                 56000.0  \n",
       "19                          72700.0                                 62900.0  \n",
       "20                         116800.0                                 93200.0  \n",
       "21                         132500.0                                110400.0  "
      ]
     },
     "execution_count": 96,
     "metadata": {},
     "output_type": "execute_result"
    }
   ],
   "source": [
    "# Read in data\n",
    "df = pd.read_csv(\"../../data/00-raw-data/lirr-metro-north-data/mta-daily-ridership-data-beginning-2020-1.csv\")\n",
    "df.head()\n",
    "df.shape\n",
    "# Drop columns unrelated to analysis\n",
    "df = df.drop(df.columns[9:],axis=1)\n",
    "df = df.drop(df.columns[3:5],axis=1)\n",
    "# Drop columns that are not of total estimated ridership\n",
    "df = df.drop(df.columns[[2,4,6]],axis=1)\n",
    "# Drop rows with NA values\n",
    "df = df.dropna(axis=0)\n",
    "print(df.columns)\n",
    "df.head()"
   ]
  },
  {
   "cell_type": "markdown",
   "metadata": {},
   "source": [
    "Dataframe must be pivoted to longer format by date, labelled by the agency associated with a given ridership statistic"
   ]
  },
  {
   "cell_type": "code",
   "execution_count": 97,
   "metadata": {},
   "outputs": [
    {
     "name": "stdout",
     "output_type": "stream",
     "text": [
      "           Date  total-ridership   agency\n",
      "0     2/28/2022        2921956.0  Subways\n",
      "1     2/27/2022        1404750.0  Subways\n",
      "2     2/26/2022        1826845.0  Subways\n",
      "3     2/25/2022        2580174.0  Subways\n",
      "4     2/24/2022        2864025.0  Subways\n",
      "...         ...              ...      ...\n",
      "2089   4/5/2020           5600.0      MNR\n",
      "2090   4/4/2020           8100.0      MNR\n",
      "2091   4/3/2020          13200.0      MNR\n",
      "2092   4/2/2020          13700.0      MNR\n",
      "2093   4/1/2020          13600.0      MNR\n",
      "\n",
      "[2094 rows x 3 columns]\n"
     ]
    }
   ],
   "source": [
    "# Pivot to longer format\n",
    "df = df.melt(id_vars=df.columns[0] ,value_vars=df.columns[1:])\n",
    "# Create column of labels\n",
    "conditions = [\n",
    "    (df['variable']=='Subways: Total Estimated Ridership'),\n",
    "    (df['variable']=='Metro-North: Total Estimated Ridership'),\n",
    "]\n",
    "choices = ['Subways','MNR']\n",
    "df['agency'] = np.select(conditions,choices, default='LIRR')\n",
    "# Drop extraneous column\n",
    "df = df.drop(['variable'],axis=1)\n",
    "# Rename columns appropriately\n",
    "df = df.rename(columns={'value':'total-ridership'})\n",
    "print(df)\n",
    "# print(df.shape)"
   ]
  },
  {
   "cell_type": "code",
   "execution_count": 98,
   "metadata": {},
   "outputs": [
    {
     "data": {
      "text/plain": [
       "0"
      ]
     },
     "execution_count": 98,
     "metadata": {},
     "output_type": "execute_result"
    }
   ],
   "source": [
    "# Save to csv and output ipynb to html\n",
    "df.to_csv(\"../../data/01-modified-data/Daily-Ridership-Cleaned.csv\")\n",
    "\n",
    "os.system('jupyter nbconvert --to html Daily-Ridership-Cleaning.ipynb')"
   ]
  }
 ],
 "metadata": {
  "kernelspec": {
   "display_name": "Python 3.10.4 ('ANLY501')",
   "language": "python",
   "name": "python3"
  },
  "language_info": {
   "codemirror_mode": {
    "name": "ipython",
    "version": 3
   },
   "file_extension": ".py",
   "mimetype": "text/x-python",
   "name": "python",
   "nbconvert_exporter": "python",
   "pygments_lexer": "ipython3",
   "version": "3.10.4"
  },
  "orig_nbformat": 4,
  "vscode": {
   "interpreter": {
    "hash": "45400336930f63a3dad52b4eda0d8feb5d28fea33ac62eb90fb48ebf47238ba1"
   }
  }
 },
 "nbformat": 4,
 "nbformat_minor": 2
}
