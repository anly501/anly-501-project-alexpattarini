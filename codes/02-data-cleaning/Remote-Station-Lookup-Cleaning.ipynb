{
 "cells": [
  {
   "cell_type": "markdown",
   "metadata": {},
   "source": [
    "# Remote Station Lookup Cleaning\n",
    "\n",
    "This script cleans the remote station lookup table (found here: https://qri.cloud/nyc-transit-data/remote_complex_lookup) by removing duplicate entries so it may be used in subsequent analyses."
   ]
  },
  {
   "cell_type": "code",
   "execution_count": 28,
   "metadata": {},
   "outputs": [],
   "source": [
    "import pandas as pd\n",
    "import numpy as np\n",
    "import os"
   ]
  },
  {
   "cell_type": "code",
   "execution_count": 37,
   "metadata": {},
   "outputs": [],
   "source": [
    "df = pd.read_csv('../../data/00-raw-data/Remote-Station-Lookup.csv')\n",
    "\n",
    "# Drop booth column (not used in further analyses)\n",
    "df = df.drop(columns=['booth'])\n",
    "# Drop rows for non subway stations\n",
    "df = df[(df['division']=='IND') | (df['division']=='BMT') | (df['division']=='IRT')]\n",
    "# Drop duplicates and NA values\n",
    "df = df.drop_duplicates()\n",
    "df.dropna(inplace=True)\n",
    "\n",
    "# Drop duplicates remote ID rows\n",
    "df.drop_duplicates(subset='remote',keep='first',inplace=True)\n",
    "df.head()\n",
    "\n",
    "# Rename columns to match other data frames\n",
    "df = df.rename(columns={\"remote\":\"remote_station_id\"})"
   ]
  },
  {
   "cell_type": "code",
   "execution_count": 36,
   "metadata": {},
   "outputs": [],
   "source": [
    "# Save as csv\n",
    "df.to_csv('../../data/01-modified-data/Remote-Station-Lookup-Cleaned.csv',index=False)"
   ]
  }
 ],
 "metadata": {
  "kernelspec": {
   "display_name": "Python 3.10.4 ('ANLY501')",
   "language": "python",
   "name": "python3"
  },
  "language_info": {
   "codemirror_mode": {
    "name": "ipython",
    "version": 3
   },
   "file_extension": ".py",
   "mimetype": "text/x-python",
   "name": "python",
   "nbconvert_exporter": "python",
   "pygments_lexer": "ipython3",
   "version": "3.10.4"
  },
  "orig_nbformat": 4,
  "vscode": {
   "interpreter": {
    "hash": "45400336930f63a3dad52b4eda0d8feb5d28fea33ac62eb90fb48ebf47238ba1"
   }
  }
 },
 "nbformat": 4,
 "nbformat_minor": 2
}
